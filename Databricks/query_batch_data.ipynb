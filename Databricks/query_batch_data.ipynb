{
 "cells": [
  {
   "cell_type": "code",
   "execution_count": 0,
   "metadata": {
    "application/vnd.databricks.v1+cell": {
     "cellMetadata": {
      "byteLimit": 2048000,
      "implicitDf": true,
      "rowLimit": 10000
     },
     "inputWidgets": {},
     "nuid": "bd4fd17a-9afb-493b-81d1-c0a556a1fd7f",
     "showTitle": false,
     "tableResultSettingsMap": {},
     "title": ""
    }
   },
   "outputs": [
    {
     "output_type": "display_data",
     "data": {
      "text/html": [
       "<style scoped>\n",
       "  .table-result-container {\n",
       "    max-height: 300px;\n",
       "    overflow: auto;\n",
       "  }\n",
       "  table, th, td {\n",
       "    border: 1px solid black;\n",
       "    border-collapse: collapse;\n",
       "  }\n",
       "  th, td {\n",
       "    padding: 5px;\n",
       "  }\n",
       "  th {\n",
       "    text-align: left;\n",
       "  }\n",
       "</style><div class='table-result-container'><table class='table-result'><thead style='background-color: white'><tr></tr></thead><tbody></tbody></table></div>"
      ]
     },
     "metadata": {
      "application/vnd.databricks.v1+output": {
       "addedWidgets": {},
       "aggData": [],
       "aggError": "",
       "aggOverflow": false,
       "aggSchema": [],
       "aggSeriesLimitReached": false,
       "aggType": "",
       "arguments": {},
       "columnCustomDisplayInfos": {},
       "data": [],
       "datasetInfos": [],
       "dbfsResultPath": null,
       "isJsonSchema": true,
       "metadata": {
        "dataframeName": null
       },
       "overflow": false,
       "plotOptions": {
        "customPlotOptions": {},
        "displayType": "table",
        "pivotAggregation": null,
        "pivotColumns": null,
        "xColumns": null,
        "yColumns": null
       },
       "removedWidgets": [],
       "schema": [],
       "type": "table"
      }
     },
     "output_type": "display_data"
    }
   ],
   "source": [
    "%sql\n",
    "USE pinterest_data_9105411ea84a;\n"
   ]
  },
  {
   "cell_type": "code",
   "execution_count": 0,
   "metadata": {
    "application/vnd.databricks.v1+cell": {
     "cellMetadata": {
      "byteLimit": 2048000,
      "rowLimit": 10000
     },
     "inputWidgets": {},
     "nuid": "304023ea-1fcc-41d5-808f-540aa5327fc3",
     "showTitle": false,
     "tableResultSettingsMap": {},
     "title": ""
    }
   },
   "outputs": [],
   "source": [
    "df_geo = spark.table(\"df_geo\")\n",
    "df_pin = spark.table(\"df_pin\")\n",
    "df_user = spark.table(\"df_user\")\n"
   ]
  },
  {
   "cell_type": "code",
   "execution_count": 0,
   "metadata": {
    "application/vnd.databricks.v1+cell": {
     "cellMetadata": {
      "byteLimit": 2048000,
      "rowLimit": 10000
     },
     "inputWidgets": {},
     "nuid": "4edc576a-c04b-41af-b5bf-fb16e441d050",
     "showTitle": false,
     "tableResultSettingsMap": {},
     "title": ""
    }
   },
   "outputs": [
    {
     "output_type": "display_data",
     "data": {
      "text/html": [
       "<style scoped>\n",
       "  .table-result-container {\n",
       "    max-height: 300px;\n",
       "    overflow: auto;\n",
       "  }\n",
       "  table, th, td {\n",
       "    border: 1px solid black;\n",
       "    border-collapse: collapse;\n",
       "  }\n",
       "  th, td {\n",
       "    padding: 5px;\n",
       "  }\n",
       "  th {\n",
       "    text-align: left;\n",
       "  }\n",
       "</style><div class='table-result-container'><table class='table-result'><thead style='background-color: white'><tr><th>country</th><th>category</th><th>category_count</th></tr></thead><tbody><tr><td>Algeria</td><td>beauty</td><td>1</td></tr><tr><td>American Samoa</td><td>quotes</td><td>1</td></tr><tr><td>Anguilla</td><td>tattoos</td><td>1</td></tr><tr><td>Antarctica (the territory South of 60 deg S)</td><td>art</td><td>1</td></tr><tr><td>Argentina</td><td>finance</td><td>1</td></tr><tr><td>Argentina</td><td>tattoos</td><td>1</td></tr><tr><td>Austria</td><td>home-decor</td><td>1</td></tr><tr><td>Bahamas</td><td>diy-and-crafts</td><td>1</td></tr><tr><td>Bahrain</td><td>home-decor</td><td>1</td></tr><tr><td>Belarus</td><td>christmas</td><td>2</td></tr><tr><td>Bhutan</td><td>home-decor</td><td>1</td></tr><tr><td>Comoros</td><td>mens-fashion</td><td>1</td></tr><tr><td>Estonia</td><td>art</td><td>1</td></tr><tr><td>Guinea-Bissau</td><td>christmas</td><td>1</td></tr></tbody></table></div>"
      ]
     },
     "metadata": {
      "application/vnd.databricks.v1+output": {
       "addedWidgets": {},
       "aggData": [],
       "aggError": "",
       "aggOverflow": false,
       "aggSchema": [],
       "aggSeriesLimitReached": false,
       "aggType": "",
       "arguments": {},
       "columnCustomDisplayInfos": {},
       "data": [
        [
         "Algeria",
         "beauty",
         1
        ],
        [
         "American Samoa",
         "quotes",
         1
        ],
        [
         "Anguilla",
         "tattoos",
         1
        ],
        [
         "Antarctica (the territory South of 60 deg S)",
         "art",
         1
        ],
        [
         "Argentina",
         "finance",
         1
        ],
        [
         "Argentina",
         "tattoos",
         1
        ],
        [
         "Austria",
         "home-decor",
         1
        ],
        [
         "Bahamas",
         "diy-and-crafts",
         1
        ],
        [
         "Bahrain",
         "home-decor",
         1
        ],
        [
         "Belarus",
         "christmas",
         2
        ],
        [
         "Bhutan",
         "home-decor",
         1
        ],
        [
         "Comoros",
         "mens-fashion",
         1
        ],
        [
         "Estonia",
         "art",
         1
        ],
        [
         "Guinea-Bissau",
         "christmas",
         1
        ]
       ],
       "datasetInfos": [],
       "dbfsResultPath": null,
       "isJsonSchema": true,
       "metadata": {},
       "overflow": false,
       "plotOptions": {
        "customPlotOptions": {},
        "displayType": "table",
        "pivotAggregation": null,
        "pivotColumns": null,
        "xColumns": null,
        "yColumns": null
       },
       "removedWidgets": [],
       "schema": [
        {
         "metadata": "{}",
         "name": "country",
         "type": "\"string\""
        },
        {
         "metadata": "{}",
         "name": "category",
         "type": "\"string\""
        },
        {
         "metadata": "{}",
         "name": "category_count",
         "type": "\"long\""
        }
       ],
       "type": "table"
      }
     },
     "output_type": "display_data"
    }
   ],
   "source": [
    "%python\n",
    "from pyspark.sql.functions import count, col\n",
    "from pyspark.sql.window import Window\n",
    "from pyspark.sql.functions import rank\n",
    "\n",
    "# Join the geo and pin DataFrames on the 'ind' column\n",
    "df_joined = df_geo.join(df_pin, \"ind\")\n",
    "\n",
    "# Group by country and category and count the occurrences\n",
    "df_category_count = df_joined.groupBy(\"country\", \"category\").agg(count(\"*\").alias(\"category_count\"))\n",
    "\n",
    "# Find the most popular category for each country by sorting within each group\n",
    "window = Window.partitionBy(\"country\").orderBy(col(\"category_count\").desc())\n",
    "\n",
    "df_most_popular = df_category_count.withColumn(\"rank\", rank().over(window)) \\\n",
    "                                   .filter(col(\"rank\") == 1) \\\n",
    "                                   .drop(\"rank\")\n",
    "\n",
    "# Select the desired columns for the final DataFrame\n",
    "df_final = df_most_popular.select(\"country\", \"category\", \"category_count\")\n",
    "\n",
    "display(df_final.select(\"*\"))"
   ]
  },
  {
   "cell_type": "code",
   "execution_count": 0,
   "metadata": {
    "application/vnd.databricks.v1+cell": {
     "cellMetadata": {
      "byteLimit": 2048000,
      "rowLimit": 10000
     },
     "inputWidgets": {},
     "nuid": "b83c413c-da43-40b5-8ac0-f13f06c514c4",
     "showTitle": false,
     "tableResultSettingsMap": {},
     "title": ""
    }
   },
   "outputs": [
    {
     "output_type": "display_data",
     "data": {
      "text/html": [
       "<style scoped>\n",
       "  .table-result-container {\n",
       "    max-height: 300px;\n",
       "    overflow: auto;\n",
       "  }\n",
       "  table, th, td {\n",
       "    border: 1px solid black;\n",
       "    border-collapse: collapse;\n",
       "  }\n",
       "  th, td {\n",
       "    padding: 5px;\n",
       "  }\n",
       "  th {\n",
       "    text-align: left;\n",
       "  }\n",
       "</style><div class='table-result-container'><table class='table-result'><thead style='background-color: white'><tr><th>post_year</th><th>category</th><th>category_count</th></tr></thead><tbody><tr><td>2018</td><td>christmas</td><td>2</td></tr><tr><td>2018</td><td>diy-and-crafts</td><td>1</td></tr><tr><td>2018</td><td>tattoos</td><td>1</td></tr><tr><td>2019</td><td>christmas</td><td>1</td></tr><tr><td>2019</td><td>home-decor</td><td>1</td></tr><tr><td>2020</td><td>beauty</td><td>1</td></tr><tr><td>2020</td><td>finance</td><td>1</td></tr><tr><td>2021</td><td>art</td><td>1</td></tr><tr><td>2021</td><td>home-decor</td><td>1</td></tr><tr><td>2021</td><td>mens-fashion</td><td>1</td></tr><tr><td>2021</td><td>quotes</td><td>1</td></tr><tr><td>2021</td><td>tattoos</td><td>1</td></tr><tr><td>2022</td><td>home-decor</td><td>1</td></tr></tbody></table></div>"
      ]
     },
     "metadata": {
      "application/vnd.databricks.v1+output": {
       "addedWidgets": {},
       "aggData": [],
       "aggError": "",
       "aggOverflow": false,
       "aggSchema": [],
       "aggSeriesLimitReached": false,
       "aggType": "",
       "arguments": {},
       "columnCustomDisplayInfos": {},
       "data": [
        [
         2018,
         "christmas",
         2
        ],
        [
         2018,
         "diy-and-crafts",
         1
        ],
        [
         2018,
         "tattoos",
         1
        ],
        [
         2019,
         "christmas",
         1
        ],
        [
         2019,
         "home-decor",
         1
        ],
        [
         2020,
         "beauty",
         1
        ],
        [
         2020,
         "finance",
         1
        ],
        [
         2021,
         "art",
         1
        ],
        [
         2021,
         "home-decor",
         1
        ],
        [
         2021,
         "mens-fashion",
         1
        ],
        [
         2021,
         "quotes",
         1
        ],
        [
         2021,
         "tattoos",
         1
        ],
        [
         2022,
         "home-decor",
         1
        ]
       ],
       "datasetInfos": [],
       "dbfsResultPath": null,
       "isJsonSchema": true,
       "metadata": {},
       "overflow": false,
       "plotOptions": {
        "customPlotOptions": {},
        "displayType": "table",
        "pivotAggregation": null,
        "pivotColumns": null,
        "xColumns": null,
        "yColumns": null
       },
       "removedWidgets": [],
       "schema": [
        {
         "metadata": "{}",
         "name": "post_year",
         "type": "\"integer\""
        },
        {
         "metadata": "{}",
         "name": "category",
         "type": "\"string\""
        },
        {
         "metadata": "{}",
         "name": "category_count",
         "type": "\"long\""
        }
       ],
       "type": "table"
      }
     },
     "output_type": "display_data"
    }
   ],
   "source": [
    "%python\n",
    "from pyspark.sql.functions import col, year, count\n",
    "\n",
    "df_joined = df_pin.join(df_geo, 'ind', 'inner')\n",
    "\n",
    "# Convert the timestamp column from string to timestamp type if it's not already\n",
    "df_joined = df_joined.withColumn(\"timestamp\", col(\"timestamp\").cast(\"timestamp\"))\n",
    "\n",
    "# Filter the DataFrame for posts between 2018 and 2022\n",
    "df_filtered = df_joined.filter((year(\"timestamp\") >= 2018) & (year(\"timestamp\") <= 2022))\n",
    "\n",
    "# Create a new column with just the year from the timestamp\n",
    "df_with_year = df_filtered.withColumn(\"post_year\", year(\"timestamp\"))\n",
    "\n",
    "# Group by post_year and category and count the occurrences\n",
    "df_category_count = df_with_year.groupBy(\"post_year\", \"category\").agg(count(\"*\").alias(\"category_count\"))\n",
    "\n",
    "# Order the result for better readability\n",
    "df_result = df_category_count.orderBy(\"post_year\", \"category\")\n",
    "\n",
    "display(df_result.select(\"*\"))"
   ]
  },
  {
   "cell_type": "code",
   "execution_count": 0,
   "metadata": {
    "application/vnd.databricks.v1+cell": {
     "cellMetadata": {
      "byteLimit": 2048000,
      "rowLimit": 10000
     },
     "inputWidgets": {},
     "nuid": "d0ed6e67-47cd-430f-b56e-443743e7533e",
     "showTitle": false,
     "tableResultSettingsMap": {},
     "title": ""
    }
   },
   "outputs": [
    {
     "output_type": "display_data",
     "data": {
      "text/html": [
       "<style scoped>\n",
       "  .table-result-container {\n",
       "    max-height: 300px;\n",
       "    overflow: auto;\n",
       "  }\n",
       "  table, th, td {\n",
       "    border: 1px solid black;\n",
       "    border-collapse: collapse;\n",
       "  }\n",
       "  th, td {\n",
       "    padding: 5px;\n",
       "  }\n",
       "  th {\n",
       "    text-align: left;\n",
       "  }\n",
       "</style><div class='table-result-container'><table class='table-result'><thead style='background-color: white'><tr><th>country</th><th>poster_name</th><th>follower_count</th></tr></thead><tbody><tr><td>Algeria</td><td>Wellness Mama</td><td>209000.0</td></tr><tr><td>American Samoa</td><td>Epic Reads</td><td>77000.0</td></tr><tr><td>Anguilla</td><td>Dicas de Mulher</td><td>2000000.0</td></tr><tr><td>Antarctica (the territory South of 60 deg S)</td><td>Messy Ever After</td><td>17000.0</td></tr><tr><td>Argentina</td><td>Next Luxury</td><td>800000.0</td></tr><tr><td>Austria</td><td>My 100 Year Old home</td><td>33000.0</td></tr><tr><td>Bahamas</td><td>The Kitchen Table Classroom</td><td>221000.0</td></tr><tr><td>Bahrain</td><td>Decor Home Ideas</td><td>144000.0</td></tr><tr><td>Belarus</td><td>Prudent Penny Pincher - Home Decor, Organization, Crafts, Recipes</td><td>647000.0</td></tr><tr><td>Bhutan</td><td>alohaboho | Pampas Grass Decor | Earthy Urban Decor</td><td>3000.0</td></tr><tr><td>Comoros</td><td>Menily</td><td>14000.0</td></tr><tr><td>Estonia</td><td>Little Eudora</td><td>505.0</td></tr><tr><td>Guinea-Bissau</td><td>The Inspiration Edit - Best Instant Pot Recipes And Kids Crafts</td><td>56000.0</td></tr></tbody></table></div>"
      ]
     },
     "metadata": {
      "application/vnd.databricks.v1+output": {
       "addedWidgets": {},
       "aggData": [],
       "aggError": "",
       "aggOverflow": false,
       "aggSchema": [],
       "aggSeriesLimitReached": false,
       "aggType": "",
       "arguments": {},
       "columnCustomDisplayInfos": {},
       "data": [
        [
         "Algeria",
         "Wellness Mama",
         209000.0
        ],
        [
         "American Samoa",
         "Epic Reads",
         77000.0
        ],
        [
         "Anguilla",
         "Dicas de Mulher",
         2000000.0
        ],
        [
         "Antarctica (the territory South of 60 deg S)",
         "Messy Ever After",
         17000.0
        ],
        [
         "Argentina",
         "Next Luxury",
         800000.0
        ],
        [
         "Austria",
         "My 100 Year Old home",
         33000.0
        ],
        [
         "Bahamas",
         "The Kitchen Table Classroom",
         221000.0
        ],
        [
         "Bahrain",
         "Decor Home Ideas",
         144000.0
        ],
        [
         "Belarus",
         "Prudent Penny Pincher - Home Decor, Organization, Crafts, Recipes",
         647000.0
        ],
        [
         "Bhutan",
         "alohaboho | Pampas Grass Decor | Earthy Urban Decor",
         3000.0
        ],
        [
         "Comoros",
         "Menily",
         14000.0
        ],
        [
         "Estonia",
         "Little Eudora",
         505.0
        ],
        [
         "Guinea-Bissau",
         "The Inspiration Edit - Best Instant Pot Recipes And Kids Crafts",
         56000.0
        ]
       ],
       "datasetInfos": [],
       "dbfsResultPath": null,
       "isJsonSchema": true,
       "metadata": {},
       "overflow": false,
       "plotOptions": {
        "customPlotOptions": {},
        "displayType": "table",
        "pivotAggregation": null,
        "pivotColumns": null,
        "xColumns": null,
        "yColumns": null
       },
       "removedWidgets": [],
       "schema": [
        {
         "metadata": "{}",
         "name": "country",
         "type": "\"string\""
        },
        {
         "metadata": "{}",
         "name": "poster_name",
         "type": "\"string\""
        },
        {
         "metadata": "{}",
         "name": "follower_count",
         "type": "\"double\""
        }
       ],
       "type": "table"
      }
     },
     "output_type": "display_data"
    }
   ],
   "source": [
    "%python\n",
    "from pyspark.sql.functions import col, row_number\n",
    "from pyspark.sql.window import Window\n",
    "\n",
    "df_joined = df_pin.join(df_geo, 'ind', 'inner')\n",
    "\n",
    "# Define a window spec partitioned by country\n",
    "windowSpec = Window.partitionBy(\"country\").orderBy(col(\"follower_count\").desc())\n",
    "\n",
    "# Use the window spec to add a row number for each user within each country partition\n",
    "df_ranked = df_joined.withColumn(\"row_number\", row_number().over(windowSpec))\n",
    "\n",
    "# Filter for the top user (row_number 1) in each country\n",
    "df_top_user_per_country = df_ranked.filter(col(\"row_number\") == 1) \\\n",
    "                                   .select(\"country\", \"poster_name\", \"follower_count\")\n",
    "\n",
    "display(df_top_user_per_country.select(\"*\"))"
   ]
  },
  {
   "cell_type": "code",
   "execution_count": 0,
   "metadata": {
    "application/vnd.databricks.v1+cell": {
     "cellMetadata": {
      "byteLimit": 2048000,
      "rowLimit": 10000
     },
     "inputWidgets": {},
     "nuid": "acecbe5c-5f17-4fcf-995b-7d82124e0c9f",
     "showTitle": false,
     "tableResultSettingsMap": {},
     "title": ""
    }
   },
   "outputs": [
    {
     "output_type": "display_data",
     "data": {
      "text/html": [
       "<style scoped>\n",
       "  .table-result-container {\n",
       "    max-height: 300px;\n",
       "    overflow: auto;\n",
       "  }\n",
       "  table, th, td {\n",
       "    border: 1px solid black;\n",
       "    border-collapse: collapse;\n",
       "  }\n",
       "  th, td {\n",
       "    padding: 5px;\n",
       "  }\n",
       "  th {\n",
       "    text-align: left;\n",
       "  }\n",
       "</style><div class='table-result-container'><table class='table-result'><thead style='background-color: white'><tr><th>age_group</th><th>category</th><th>category_count</th></tr></thead><tbody><tr><td>18-24</td><td>tattoos</td><td>1</td></tr><tr><td>25-35</td><td>finance</td><td>1</td></tr><tr><td>25-35</td><td>diy-and-crafts</td><td>1</td></tr><tr><td>25-35</td><td>art</td><td>1</td></tr><tr><td>25-35</td><td>education</td><td>1</td></tr><tr><td>25-35</td><td>travel</td><td>1</td></tr><tr><td>36-50</td><td>home-decor</td><td>1</td></tr><tr><td>50+</td><td>art</td><td>1</td></tr><tr><td>50+</td><td>christmas</td><td>1</td></tr></tbody></table></div>"
      ]
     },
     "metadata": {
      "application/vnd.databricks.v1+output": {
       "addedWidgets": {},
       "aggData": [],
       "aggError": "",
       "aggOverflow": false,
       "aggSchema": [],
       "aggSeriesLimitReached": false,
       "aggType": "",
       "arguments": {},
       "columnCustomDisplayInfos": {},
       "data": [
        [
         "18-24",
         "tattoos",
         1
        ],
        [
         "25-35",
         "finance",
         1
        ],
        [
         "25-35",
         "diy-and-crafts",
         1
        ],
        [
         "25-35",
         "art",
         1
        ],
        [
         "25-35",
         "education",
         1
        ],
        [
         "25-35",
         "travel",
         1
        ],
        [
         "36-50",
         "home-decor",
         1
        ],
        [
         "50+",
         "art",
         1
        ],
        [
         "50+",
         "christmas",
         1
        ]
       ],
       "datasetInfos": [],
       "dbfsResultPath": null,
       "isJsonSchema": true,
       "metadata": {},
       "overflow": false,
       "plotOptions": {
        "customPlotOptions": {},
        "displayType": "table",
        "pivotAggregation": null,
        "pivotColumns": null,
        "xColumns": null,
        "yColumns": null
       },
       "removedWidgets": [],
       "schema": [
        {
         "metadata": "{}",
         "name": "age_group",
         "type": "\"string\""
        },
        {
         "metadata": "{}",
         "name": "category",
         "type": "\"string\""
        },
        {
         "metadata": "{}",
         "name": "category_count",
         "type": "\"long\""
        }
       ],
       "type": "table"
      }
     },
     "output_type": "display_data"
    }
   ],
   "source": [
    "%python\n",
    "from pyspark.sql.functions import when, col, count, rank\n",
    "from pyspark.sql import Window\n",
    "\n",
    "df_joined = df_pin.join(df_user, 'ind', 'inner')\n",
    "\n",
    "# Create the age_group column\n",
    "df_with_age_group = df_joined.withColumn(\n",
    "    \"age_group\",\n",
    "    when(col(\"age\").between(18, 24), \"18-24\")\n",
    "    .when(col(\"age\").between(25, 35), \"25-35\")\n",
    "    .when(col(\"age\").between(36, 50), \"36-50\")\n",
    "    .otherwise(\"50+\")\n",
    ")\n",
    "\n",
    "# Group by age_group and category and count the occurrences\n",
    "df_category_count = df_with_age_group.groupBy(\"age_group\", \"category\").agg(count(\"*\").alias(\"category_count\"))\n",
    "\n",
    "# Define a window spec partitioned by age_group and ordered by category_count descending\n",
    "windowSpec = Window.partitionBy(\"age_group\").orderBy(col(\"category_count\").desc())\n",
    "\n",
    "# Use the window spec to add a rank for each category within each age group partition\n",
    "df_ranked = df_category_count.withColumn(\"rank\", rank().over(windowSpec))\n",
    "\n",
    "# Filter for the top-ranked category within each age group\n",
    "df_top_category_per_age_group = df_ranked.filter(col(\"rank\") == 1).select(\"age_group\", \"category\", \"category_count\")\n",
    "\n",
    "display(df_top_category_per_age_group)"
   ]
  },
  {
   "cell_type": "code",
   "execution_count": 0,
   "metadata": {
    "application/vnd.databricks.v1+cell": {
     "cellMetadata": {
      "byteLimit": 2048000,
      "rowLimit": 10000
     },
     "inputWidgets": {},
     "nuid": "0031d160-5784-484f-b57c-bde7b886e064",
     "showTitle": false,
     "tableResultSettingsMap": {},
     "title": ""
    }
   },
   "outputs": [
    {
     "output_type": "display_data",
     "data": {
      "text/html": [
       "<style scoped>\n",
       "  .table-result-container {\n",
       "    max-height: 300px;\n",
       "    overflow: auto;\n",
       "  }\n",
       "  table, th, td {\n",
       "    border: 1px solid black;\n",
       "    border-collapse: collapse;\n",
       "  }\n",
       "  th, td {\n",
       "    padding: 5px;\n",
       "  }\n",
       "  th {\n",
       "    text-align: left;\n",
       "  }\n",
       "</style><div class='table-result-container'><table class='table-result'><thead style='background-color: white'><tr><th>age_group</th><th>median_follower_count</th></tr></thead><tbody><tr><td>50+</td><td>7000.0</td></tr><tr><td>18-24</td><td>190000.0</td></tr><tr><td>25-35</td><td>22000.0</td></tr><tr><td>36-50</td><td>129000.0</td></tr></tbody></table></div>"
      ]
     },
     "metadata": {
      "application/vnd.databricks.v1+output": {
       "addedWidgets": {},
       "aggData": [],
       "aggError": "",
       "aggOverflow": false,
       "aggSchema": [],
       "aggSeriesLimitReached": false,
       "aggType": "",
       "arguments": {},
       "columnCustomDisplayInfos": {},
       "data": [
        [
         "50+",
         7000.0
        ],
        [
         "18-24",
         190000.0
        ],
        [
         "25-35",
         22000.0
        ],
        [
         "36-50",
         129000.0
        ]
       ],
       "datasetInfos": [],
       "dbfsResultPath": null,
       "isJsonSchema": true,
       "metadata": {},
       "overflow": false,
       "plotOptions": {
        "customPlotOptions": {},
        "displayType": "table",
        "pivotAggregation": null,
        "pivotColumns": null,
        "xColumns": null,
        "yColumns": null
       },
       "removedWidgets": [],
       "schema": [
        {
         "metadata": "{}",
         "name": "age_group",
         "type": "\"string\""
        },
        {
         "metadata": "{}",
         "name": "median_follower_count",
         "type": "\"double\""
        }
       ],
       "type": "table"
      }
     },
     "output_type": "display_data"
    }
   ],
   "source": [
    "%python\n",
    "from pyspark.sql.functions import col, when, percentile_approx\n",
    "\n",
    "df_joined = df_pin.join(df_user, 'ind', 'inner')\n",
    "\n",
    "# Age groups\n",
    "df_with_age_group = df_joined.withColumn(\n",
    "    \"age_group\",\n",
    "    when(col(\"age\").between(18, 24), \"18-24\")\n",
    "    .when(col(\"age\").between(25, 35), \"25-35\")\n",
    "    .when(col(\"age\").between(36, 50), \"36-50\")\n",
    "    .otherwise(\"50+\")\n",
    ")\n",
    "\n",
    "# Group by age_group and calculate the median follower count\n",
    "df_median_follower_count = df_with_age_group.groupBy(\"age_group\")\\\n",
    "                                            .agg(percentile_approx(\"follower_count\", 0.5).alias(\"median_follower_count\"))\n",
    "\n",
    "# Display the result\n",
    "display(df_median_follower_count)\n"
   ]
  },
  {
   "cell_type": "code",
   "execution_count": 0,
   "metadata": {
    "application/vnd.databricks.v1+cell": {
     "cellMetadata": {
      "byteLimit": 2048000,
      "rowLimit": 10000
     },
     "inputWidgets": {},
     "nuid": "f68d41ad-8cac-4afe-adb5-3101474fcca7",
     "showTitle": false,
     "tableResultSettingsMap": {},
     "title": ""
    }
   },
   "outputs": [
    {
     "output_type": "display_data",
     "data": {
      "text/html": [
       "<style scoped>\n",
       "  .table-result-container {\n",
       "    max-height: 300px;\n",
       "    overflow: auto;\n",
       "  }\n",
       "  table, th, td {\n",
       "    border: 1px solid black;\n",
       "    border-collapse: collapse;\n",
       "  }\n",
       "  th, td {\n",
       "    padding: 5px;\n",
       "  }\n",
       "  th {\n",
       "    text-align: left;\n",
       "  }\n",
       "</style><div class='table-result-container'><table class='table-result'><thead style='background-color: white'><tr><th>post_year</th><th>number_users_joined</th></tr></thead><tbody><tr><td>2015</td><td>139</td></tr><tr><td>2016</td><td>149</td></tr><tr><td>2017</td><td>56</td></tr></tbody></table></div>"
      ]
     },
     "metadata": {
      "application/vnd.databricks.v1+output": {
       "addedWidgets": {},
       "aggData": [],
       "aggError": "",
       "aggOverflow": false,
       "aggSchema": [],
       "aggSeriesLimitReached": false,
       "aggType": "",
       "arguments": {},
       "columnCustomDisplayInfos": {},
       "data": [
        [
         2015,
         139
        ],
        [
         2016,
         149
        ],
        [
         2017,
         56
        ]
       ],
       "datasetInfos": [],
       "dbfsResultPath": null,
       "isJsonSchema": true,
       "metadata": {},
       "overflow": false,
       "plotOptions": {
        "customPlotOptions": {},
        "displayType": "table",
        "pivotAggregation": null,
        "pivotColumns": null,
        "xColumns": null,
        "yColumns": null
       },
       "removedWidgets": [],
       "schema": [
        {
         "metadata": "{}",
         "name": "post_year",
         "type": "\"integer\""
        },
        {
         "metadata": "{}",
         "name": "number_users_joined",
         "type": "\"long\""
        }
       ],
       "type": "table"
      }
     },
     "output_type": "display_data"
    }
   ],
   "source": [
    "%python\n",
    "from pyspark.sql.types import DateType\n",
    "from pyspark.sql.functions import col, year, count\n",
    "\n",
    "# Convert the date_joined column from string to date type\n",
    "df_user = df_user.withColumn(\"date_joined\", col(\"date_joined\").cast(DateType()))\n",
    "\n",
    "# Extract the year from the date_joined column\n",
    "df_with_year = df_user.withColumn(\"post_year\", year(col(\"date_joined\")))\n",
    "\n",
    "# Filter the DataFrame for years between 2015 and 2017\n",
    "df_filtered = df_with_year.filter((col(\"post_year\") >= 2015) & (col(\"post_year\") <= 2017))\n",
    "\n",
    "# Group by post_year and count the number of users\n",
    "df_number_users_joined = df_filtered.groupBy(\"post_year\").agg(count(\"*\").alias(\"number_users_joined\"))\n",
    "\n",
    "display(df_number_users_joined)"
   ]
  },
  {
   "cell_type": "code",
   "execution_count": 0,
   "metadata": {
    "application/vnd.databricks.v1+cell": {
     "cellMetadata": {
      "byteLimit": 2048000,
      "rowLimit": 10000
     },
     "inputWidgets": {},
     "nuid": "0bcf41ba-2e0d-45c1-80ac-184a4ae97aa2",
     "showTitle": false,
     "tableResultSettingsMap": {},
     "title": ""
    }
   },
   "outputs": [
    {
     "output_type": "display_data",
     "data": {
      "text/html": [
       "<style scoped>\n",
       "  .table-result-container {\n",
       "    max-height: 300px;\n",
       "    overflow: auto;\n",
       "  }\n",
       "  table, th, td {\n",
       "    border: 1px solid black;\n",
       "    border-collapse: collapse;\n",
       "  }\n",
       "  th, td {\n",
       "    padding: 5px;\n",
       "  }\n",
       "  th {\n",
       "    text-align: left;\n",
       "  }\n",
       "</style><div class='table-result-container'><table class='table-result'><thead style='background-color: white'><tr><th>post_year</th><th>median_follower_count</th></tr></thead><tbody><tr><td>2015</td><td>190000.0</td></tr><tr><td>2016</td><td>28000.0</td></tr><tr><td>2017</td><td>7000.0</td></tr></tbody></table></div>"
      ]
     },
     "metadata": {
      "application/vnd.databricks.v1+output": {
       "addedWidgets": {},
       "aggData": [],
       "aggError": "",
       "aggOverflow": false,
       "aggSchema": [],
       "aggSeriesLimitReached": false,
       "aggType": "",
       "arguments": {},
       "columnCustomDisplayInfos": {},
       "data": [
        [
         2015,
         190000.0
        ],
        [
         2016,
         28000.0
        ],
        [
         2017,
         7000.0
        ]
       ],
       "datasetInfos": [],
       "dbfsResultPath": null,
       "isJsonSchema": true,
       "metadata": {},
       "overflow": false,
       "plotOptions": {
        "customPlotOptions": {},
        "displayType": "table",
        "pivotAggregation": null,
        "pivotColumns": null,
        "xColumns": null,
        "yColumns": null
       },
       "removedWidgets": [],
       "schema": [
        {
         "metadata": "{}",
         "name": "post_year",
         "type": "\"integer\""
        },
        {
         "metadata": "{}",
         "name": "median_follower_count",
         "type": "\"double\""
        }
       ],
       "type": "table"
      }
     },
     "output_type": "display_data"
    }
   ],
   "source": [
    "%python\n",
    "from pyspark.sql.functions import col, year, expr\n",
    "\n",
    "# Filter users who joined between 2015 and 2017\n",
    "df_filtered_users = df_user.withColumn(\"date_joined\", col(\"date_joined\").cast(\"timestamp\")) \\\n",
    "                           .withColumn(\"post_year\", year(\"date_joined\")) \\\n",
    "                           .filter((col(\"post_year\") >= 2015) & (col(\"post_year\") <= 2017))\n",
    "\n",
    "df_joined = df_filtered_users.join(df_pin, 'ind', 'inner')\n",
    "\n",
    "# Calculate the median follower count per post year\n",
    "df_median_follower_count = df_joined.groupBy(\"post_year\") \\\n",
    "                                    .agg(expr(\"percentile_approx(follower_count, 0.5)\").alias(\"median_follower_count\"))\n",
    "\n",
    "display(df_median_follower_count)"
   ]
  },
  {
   "cell_type": "code",
   "execution_count": 0,
   "metadata": {
    "application/vnd.databricks.v1+cell": {
     "cellMetadata": {
      "byteLimit": 2048000,
      "rowLimit": 10000
     },
     "inputWidgets": {},
     "nuid": "8aac06d3-783c-4225-a06d-84b1cd5b3456",
     "showTitle": false,
     "tableResultSettingsMap": {},
     "title": ""
    }
   },
   "outputs": [
    {
     "output_type": "display_data",
     "data": {
      "text/html": [
       "<style scoped>\n",
       "  .table-result-container {\n",
       "    max-height: 300px;\n",
       "    overflow: auto;\n",
       "  }\n",
       "  table, th, td {\n",
       "    border: 1px solid black;\n",
       "    border-collapse: collapse;\n",
       "  }\n",
       "  th, td {\n",
       "    padding: 5px;\n",
       "  }\n",
       "  th {\n",
       "    text-align: left;\n",
       "  }\n",
       "</style><div class='table-result-container'><table class='table-result'><thead style='background-color: white'><tr><th>age_group</th><th>post_year</th><th>median_follower_count</th></tr></thead><tbody><tr><td>50+</td><td>2017</td><td>7000.0</td></tr><tr><td>18-24</td><td>2015</td><td>190000.0</td></tr><tr><td>25-35</td><td>2016</td><td>22000.0</td></tr><tr><td>36-50</td><td>2016</td><td>129000.0</td></tr><tr><td>50+</td><td>2016</td><td>28000.0</td></tr><tr><td>25-35</td><td>2015</td><td>17000.0</td></tr></tbody></table></div>"
      ]
     },
     "metadata": {
      "application/vnd.databricks.v1+output": {
       "addedWidgets": {},
       "aggData": [],
       "aggError": "",
       "aggOverflow": false,
       "aggSchema": [],
       "aggSeriesLimitReached": false,
       "aggType": "",
       "arguments": {},
       "columnCustomDisplayInfos": {},
       "data": [
        [
         "50+",
         2017,
         7000.0
        ],
        [
         "18-24",
         2015,
         190000.0
        ],
        [
         "25-35",
         2016,
         22000.0
        ],
        [
         "36-50",
         2016,
         129000.0
        ],
        [
         "50+",
         2016,
         28000.0
        ],
        [
         "25-35",
         2015,
         17000.0
        ]
       ],
       "datasetInfos": [],
       "dbfsResultPath": null,
       "isJsonSchema": true,
       "metadata": {},
       "overflow": false,
       "plotOptions": {
        "customPlotOptions": {},
        "displayType": "table",
        "pivotAggregation": null,
        "pivotColumns": null,
        "xColumns": null,
        "yColumns": null
       },
       "removedWidgets": [],
       "schema": [
        {
         "metadata": "{}",
         "name": "age_group",
         "type": "\"string\""
        },
        {
         "metadata": "{}",
         "name": "post_year",
         "type": "\"integer\""
        },
        {
         "metadata": "{}",
         "name": "median_follower_count",
         "type": "\"double\""
        }
       ],
       "type": "table"
      }
     },
     "output_type": "display_data"
    }
   ],
   "source": [
    "# Filter users who joined between 2015 and 2017\n",
    "df_users_filtered = df_user.withColumn(\"date_joined\", col(\"date_joined\").cast(\"timestamp\")) \\\n",
    "                           .withColumn(\"post_year\", year(col(\"date_joined\"))) \\\n",
    "                           .filter((col(\"post_year\") >= 2015) & (col(\"post_year\") <= 2017))\n",
    "\n",
    "# Create the age_group column\n",
    "df_users_age_grouped = df_users_filtered.withColumn(\n",
    "    \"age_group\",\n",
    "    when(col(\"age\").between(18, 24), \"18-24\")\n",
    "    .when(col(\"age\").between(25, 35), \"25-35\")\n",
    "    .when(col(\"age\").between(36, 50), \"36-50\")\n",
    "    .otherwise(\"50+\")\n",
    ")\n",
    "\n",
    "# Join df_users_age_grouped with df_pin on the user identifier to get follower counts\n",
    "df_joined = df_users_age_grouped.join(df_pin, 'ind', 'inner')\n",
    "\n",
    "# Group by age_group and post_year, and calculate the median follower count\n",
    "df_median_followers = df_joined.groupBy(\"age_group\", \"post_year\") \\\n",
    "                               .agg(expr(\"percentile_approx(follower_count, 0.5)\").alias(\"median_follower_count\"))\n",
    "\n",
    "display(df_median_followers)"
   ]
  }
 ],
 "metadata": {
  "application/vnd.databricks.v1+notebook": {
   "computePreferences": null,
   "dashboards": [],
   "environmentMetadata": {
    "base_environment": "",
    "environment_version": "2"
   },
   "language": "python",
   "notebookMetadata": {
    "mostRecentlyExecutedCommandWithImplicitDF": {
     "commandId": 7380810985512257,
     "dataframes": [
      "_sqldf"
     ]
    },
    "pythonIndentUnit": 4
   },
   "notebookName": "query_batch_data",
   "widgets": {}
  },
  "language_info": {
   "name": "python"
  }
 },
 "nbformat": 4,
 "nbformat_minor": 0
}