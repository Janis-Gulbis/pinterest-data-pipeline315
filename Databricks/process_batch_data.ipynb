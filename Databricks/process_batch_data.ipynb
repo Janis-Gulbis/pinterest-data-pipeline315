{
 "cells": [
  {
   "cell_type": "code",
   "execution_count": 0,
   "metadata": {
    "application/vnd.databricks.v1+cell": {
     "cellMetadata": {},
     "inputWidgets": {},
     "nuid": "f6625750-9cce-4ed4-b7bc-73ee425b9b68",
     "showTitle": false,
     "tableResultSettingsMap": {},
     "title": ""
    }
   },
   "outputs": [],
   "source": [
    "%sql\n",
    "USE pinterest_data_9105411ea84a;\n",
    "\n",
    "-- Injesting raw data and creating temp views\n",
    "\n",
    "CREATE OR REPLACE TEMPORARY VIEW raw_df_pin\n",
    "USING json\n",
    "OPTIONS (\n",
    "  path \"s3://user-9105411ea84a-bucket/topics/9105411ea84a.pin/partition=0/\"\n",
    ");\n",
    "\n",
    "CREATE OR REPLACE TEMPORARY VIEW raw_df_geo\n",
    "USING json\n",
    "OPTIONS (\n",
    "  path \"s3://user-9105411ea84a-bucket/topics/9105411ea84a.geo/partition=0/\"\n",
    ");\n",
    "\n",
    "CREATE OR REPLACE TEMPORARY VIEW raw_df_user\n",
    "USING json\n",
    "OPTIONS (\n",
    "  path \"s3://user-9105411ea84a-bucket/topics/9105411ea84a.user/partition=0/\"\n",
    ");\n"
   ]
  },
  {
   "cell_type": "code",
   "execution_count": 0,
   "metadata": {
    "application/vnd.databricks.v1+cell": {
     "cellMetadata": {},
     "inputWidgets": {},
     "nuid": "99f21610-1c91-4d1b-811c-7c32ac318975",
     "showTitle": false,
     "tableResultSettingsMap": {},
     "title": ""
    }
   },
   "outputs": [],
   "source": [
    "%sql\n",
    "\n",
    "--Cleaning raw data\n",
    "\n",
    "--df_pin\n",
    "\n",
    "CREATE OR REPLACE TEMPORARY VIEW clean_df_pin AS\n",
    "SELECT\n",
    "  -- Renaming \"index\" to \"ind\"\n",
    "  index AS ind,\n",
    "  \n",
    "  -- Cleaning and transforming string columns\n",
    "  CASE WHEN TRIM(unique_id) = '' THEN NULL ELSE unique_id END AS unique_id,\n",
    "  CASE WHEN TRIM(title) = '' THEN NULL ELSE title END AS title,\n",
    "  CASE WHEN TRIM(description) = '' THEN NULL ELSE description END AS description,\n",
    "  \n",
    "  -- Cleaning follower_count\n",
    "  CASE \n",
    "    WHEN TRIM(follower_count) = '' OR follower_count IS NULL THEN NULL\n",
    "    WHEN TRIM(follower_count) RLIKE '^[0-9]+$' THEN CAST(follower_count AS INT)  -- Already a number\n",
    "    WHEN TRIM(follower_count) LIKE '%M' THEN CAST(REPLACE(follower_count, 'M', '') AS FLOAT) * 1000000\n",
    "    WHEN TRIM(follower_count) LIKE '%k' THEN CAST(REPLACE(follower_count, 'k', '') AS FLOAT) * 1000\n",
    "    ELSE NULL\n",
    "  END AS follower_count,\n",
    "  \n",
    "  CASE WHEN TRIM(poster_name) = '' THEN NULL ELSE poster_name END AS poster_name,\n",
    "  CASE WHEN TRIM(tag_list) = '' THEN NULL ELSE tag_list END AS tag_list,\n",
    "  CASE WHEN TRIM(is_image_or_video) = '' THEN NULL ELSE is_image_or_video END AS is_image_or_video,\n",
    "  \n",
    "  -- Treat empty values as NULL\n",
    "  CASE WHEN TRIM(img_src) = '' THEN NULL ELSE img_src END AS img_src,\n",
    "  \n",
    "  -- Clean save_location by removing everything before the first \"/\"\n",
    "  CASE \n",
    "    WHEN TRIM(save_location) = '' THEN NULL \n",
    "    ELSE regexp_extract(TRIM(save_location), '(/.*)$', 1)\n",
    "  END AS save_location,\n",
    "  \n",
    "  CASE WHEN TRIM(category) = '' THEN NULL ELSE category END AS category\n",
    "\n",
    "FROM raw_df_pin;\n",
    "\n",
    "\n",
    "\n",
    "--df_geo\n",
    "\n",
    "CREATE OR REPLACE TEMPORARY VIEW clean_df_geo AS\n",
    "SELECT\n",
    "  ind,\n",
    "  country,\n",
    "  -- Create a new column 'coordinates' by concatenating latitude and longitude with a comma separator.\n",
    "  CONCAT(CAST(latitude AS STRING), ',', CAST(longitude AS STRING)) AS coordinates,\n",
    "\n",
    "  -- Convert timestamp to TIMESTAMP (if it isn't already)\n",
    "  CAST(timestamp AS TIMESTAMP) AS timestamp\n",
    "FROM raw_df_geo;\n",
    "\n",
    "\n",
    "--df_user\n",
    "\n",
    "CREATE OR REPLACE TEMPORARY VIEW clean_df_user AS\n",
    "SELECT\n",
    "  ind,\n",
    "  -- Create a new column 'user_name' by concatenating first_name and last_name with a space inbetween\n",
    "  CONCAT(first_name, ' ', last_name) AS user_name,\n",
    "  age,\n",
    "  CAST(date_joined AS TIMESTAMP) AS date_joined\n",
    "FROM raw_df_user;"
   ]
  },
  {
   "cell_type": "code",
   "execution_count": 0,
   "metadata": {
    "application/vnd.databricks.v1+cell": {
     "cellMetadata": {},
     "inputWidgets": {},
     "nuid": "e5596a63-2593-447e-8cfe-5bc8aee3b206",
     "showTitle": false,
     "tableResultSettingsMap": {},
     "title": ""
    }
   },
   "outputs": [],
   "source": [
    "%sql\n",
    "\n",
    "--Write clean data to the tables\n",
    "\n",
    "INSERT OVERWRITE TABLE df_pin\n",
    "SELECT * FROM clean_df_pin;\n",
    "\n",
    "\n",
    "INSERT OVERWRITE TABLE df_geo\n",
    "SELECT * FROM clean_df_geo;\n",
    "\n",
    "\n",
    "INSERT OVERWRITE TABLE df_user\n",
    "SELECT * FROM clean_df_user;\n"
   ]
  }
 ],
 "metadata": {
  "application/vnd.databricks.v1+notebook": {
   "computePreferences": null,
   "dashboards": [],
   "environmentMetadata": {
    "base_environment": "",
    "environment_version": "2"
   },
   "language": "python",
   "notebookMetadata": {
    "mostRecentlyExecutedCommandWithImplicitDF": {
     "commandId": 8895802108361924,
     "dataframes": [
      "_sqldf"
     ]
    },
    "pythonIndentUnit": 4
   },
   "notebookName": "process_batch_data",
   "widgets": {}
  },
  "language_info": {
   "name": "python"
  }
 },
 "nbformat": 4,
 "nbformat_minor": 0
}